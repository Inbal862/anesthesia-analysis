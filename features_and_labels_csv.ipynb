{
 "cells": [
  {
   "cell_type": "code",
   "execution_count": 3,
   "id": "f04017b4-23ef-4fff-85f3-ef74252a4e2e",
   "metadata": {},
   "outputs": [],
   "source": [
    "import mne\n",
    "import numpy as np\n",
    "import pandas as pd\n",
    "import pathlib\n",
    "import scipy"
   ]
  },
  {
   "cell_type": "code",
   "execution_count": 4,
   "id": "f262e432-f528-465c-bd02-b6d783a6e7b9",
   "metadata": {},
   "outputs": [
    {
     "name": "stdout",
     "output_type": "stream",
     "text": [
      "C:\\Users\\User\\Desktop\\Rambam collaboration\\data\n"
     ]
    }
   ],
   "source": [
    "BASE_DIR = pathlib.Path(r'C:\\Users\\User\\Desktop\\Rambam collaboration\\data')\n",
    "print(BASE_DIR)"
   ]
  },
  {
   "cell_type": "code",
   "execution_count": 5,
   "id": "ba6f1ca6-a660-4a2d-8c84-d2dc82b93601",
   "metadata": {},
   "outputs": [],
   "source": [
    "def extract_spectral_features(raw):\n",
    "    # Initialize an empty list to store features\n",
    "    features = []\n",
    "    x = raw.get_data()\n",
    "    # Calculate spectral features for each channel\n",
    "    freqs, psd_array = scipy.signal.csd(x, x, fs=raw.info['sfreq'])\n",
    "    # Loop through each channel\n",
    "# for i, ch in enumerate(raw.info['ch_names']):\n",
    "    alpha_band = np.logical_and(freqs >= 8, freqs <= 13)\n",
    "    delta_band = np.logical_and(freqs >= 0.5, freqs <= 4)\n",
    "    \n",
    "    alpha_power = np.mean(psd_array[:, alpha_band], axis=1)\n",
    "    delta_power = np.mean(psd_array[:, delta_band], axis=1)\n",
    "\n",
    "    spectral_edge = freqs[np.argmax(np.cumsum(psd_array, axis=1) >= 0.9, axis=1)]\n",
    "    spectral_entropy = -np.sum(psd_array * np.log2(psd_array), axis=1)\n",
    "\n",
    "    # Add spectral features for this channel to the list\n",
    "    features.extend([alpha_power, delta_power, spectral_edge, spectral_entropy])\n",
    "\n",
    "    return np.array(features).flatten()"
   ]
  },
  {
   "cell_type": "code",
   "execution_count": 6,
   "id": "e4318949-bfe3-4d6b-86bd-ab1251e8f9c5",
   "metadata": {},
   "outputs": [
    {
     "name": "stdout",
     "output_type": "stream",
     "text": [
      "Patient: 045\n",
      "Extracting parameters from C:\\Users\\User\\Desktop\\Rambam collaboration\\data\\045\\045_base.vhdr...\n",
      "Setting channel info structure...\n"
     ]
    },
    {
     "name": "stderr",
     "output_type": "stream",
     "text": [
      "C:\\Users\\User\\AppData\\Local\\Temp\\ipykernel_17992\\115966606.py:12: RuntimeWarning: Online software filter detected. Using software filter settings and ignoring hardware values\n",
      "  raw = mne.io.read_raw(file_path, preload=True)\n"
     ]
    },
    {
     "name": "stdout",
     "output_type": "stream",
     "text": [
      "Reading 0 ... 137029  =      0.000 ...   274.058 secs...\n",
      "['FP1', 'FP2', 'F7', 'F8', 'FC5', 'FZ', 'FC6', 'T8', 'T7', 'CZ', 'CP6', 'CP5', 'P7', 'PZ', 'P8', 'OZ', 'REF', 'GRN']\n",
      "Filtering raw data in 1 contiguous segment\n",
      "Setting up band-pass filter from 0.1 - 70 Hz\n",
      "\n",
      "FIR filter parameters\n",
      "---------------------\n",
      "Designing a one-pass, zero-phase, non-causal bandpass filter:\n",
      "- Windowed time-domain design (firwin) method\n",
      "- Hamming window with 0.0194 passband ripple and 53 dB stopband attenuation\n",
      "- Lower passband edge: 0.10\n",
      "- Lower transition bandwidth: 0.10 Hz (-6 dB cutoff frequency: 0.05 Hz)\n",
      "- Upper passband edge: 70.00 Hz\n",
      "- Upper transition bandwidth: 17.50 Hz (-6 dB cutoff frequency: 78.75 Hz)\n",
      "- Filter length: 16501 samples (33.002 s)\n",
      "\n",
      "Filtering raw data in 1 contiguous segment\n",
      "Setting up band-stop filter from 49 - 51 Hz\n",
      "\n",
      "FIR filter parameters\n",
      "---------------------\n",
      "Designing a one-pass, zero-phase, non-causal bandstop filter:\n",
      "- Windowed time-domain design (firwin) method\n",
      "- Hamming window with 0.0194 passband ripple and 53 dB stopband attenuation\n",
      "- Lower passband edge: 49.38\n",
      "- Lower transition bandwidth: 0.50 Hz (-6 dB cutoff frequency: 49.12 Hz)\n",
      "- Upper passband edge: 50.62 Hz\n",
      "- Upper transition bandwidth: 0.50 Hz (-6 dB cutoff frequency: 50.88 Hz)\n",
      "- Filter length: 3301 samples (6.602 s)\n",
      "\n"
     ]
    },
    {
     "name": "stderr",
     "output_type": "stream",
     "text": [
      "[Parallel(n_jobs=1)]: Using backend SequentialBackend with 1 concurrent workers.\n",
      "[Parallel(n_jobs=1)]: Done   1 out of   1 | elapsed:    0.0s remaining:    0.0s\n",
      "[Parallel(n_jobs=1)]: Done   2 out of   2 | elapsed:    0.0s remaining:    0.0s\n",
      "[Parallel(n_jobs=1)]: Done   3 out of   3 | elapsed:    0.0s remaining:    0.0s\n",
      "[Parallel(n_jobs=1)]: Done   4 out of   4 | elapsed:    0.0s remaining:    0.0s\n",
      "[Parallel(n_jobs=1)]: Done  10 out of  10 | elapsed:    0.0s finished\n",
      "[Parallel(n_jobs=1)]: Using backend SequentialBackend with 1 concurrent workers.\n",
      "[Parallel(n_jobs=1)]: Done   1 out of   1 | elapsed:    0.0s remaining:    0.0s\n",
      "[Parallel(n_jobs=1)]: Done   2 out of   2 | elapsed:    0.0s remaining:    0.0s\n",
      "[Parallel(n_jobs=1)]: Done   3 out of   3 | elapsed:    0.0s remaining:    0.0s\n",
      "[Parallel(n_jobs=1)]: Done   4 out of   4 | elapsed:    0.0s remaining:    0.0s\n",
      "[Parallel(n_jobs=1)]: Done  10 out of  10 | elapsed:    0.0s finished\n"
     ]
    },
    {
     "name": "stdout",
     "output_type": "stream",
     "text": [
      "(40,)\n",
      "(40,)\n",
      "(40,)\n",
      "(40,)\n",
      "(40,)\n",
      "(40,)\n",
      "(40,)\n",
      "(40,)\n",
      "(40,)\n",
      "(40,)\n",
      "(40,)\n",
      "(40,)\n",
      "(40,)\n",
      "(40,)\n",
      "(40,)\n",
      "(40,)\n",
      "(40,)\n",
      "Extracting parameters from C:\\Users\\User\\Desktop\\Rambam collaboration\\data\\045\\045_surgery.vhdr...\n",
      "Setting channel info structure...\n",
      "Reading 0 ... 5859379  =      0.000 ... 11718.758 secs...\n"
     ]
    },
    {
     "name": "stderr",
     "output_type": "stream",
     "text": [
      "C:\\Users\\User\\AppData\\Local\\Temp\\ipykernel_17992\\115966606.py:12: RuntimeWarning: Online software filter detected. Using software filter settings and ignoring hardware values\n",
      "  raw = mne.io.read_raw(file_path, preload=True)\n"
     ]
    },
    {
     "ename": "KeyboardInterrupt",
     "evalue": "",
     "output_type": "error",
     "traceback": [
      "\u001b[1;31m---------------------------------------------------------------------------\u001b[0m",
      "\u001b[1;31mKeyboardInterrupt\u001b[0m                         Traceback (most recent call last)",
      "Cell \u001b[1;32mIn[6], line 12\u001b[0m\n\u001b[0;32m      9\u001b[0m file_path \u001b[38;5;241m=\u001b[39m BASE_DIR \u001b[38;5;241m/\u001b[39m \u001b[38;5;124mf\u001b[39m\u001b[38;5;124m'\u001b[39m\u001b[38;5;132;01m{\u001b[39;00mpatient_id\u001b[38;5;132;01m}\u001b[39;00m\u001b[38;5;124m/\u001b[39m\u001b[38;5;132;01m{\u001b[39;00mpatient_id\u001b[38;5;132;01m}\u001b[39;00m\u001b[38;5;124m_\u001b[39m\u001b[38;5;132;01m{\u001b[39;00mfile_type\u001b[38;5;132;01m}\u001b[39;00m\u001b[38;5;124m.vhdr\u001b[39m\u001b[38;5;124m'\u001b[39m\n\u001b[0;32m     11\u001b[0m \u001b[38;5;28;01mtry\u001b[39;00m:\n\u001b[1;32m---> 12\u001b[0m     raw \u001b[38;5;241m=\u001b[39m mne\u001b[38;5;241m.\u001b[39mio\u001b[38;5;241m.\u001b[39mread_raw(file_path, preload\u001b[38;5;241m=\u001b[39m\u001b[38;5;28;01mTrue\u001b[39;00m)\n\u001b[0;32m     13\u001b[0m \u001b[38;5;28;01mexcept\u001b[39;00m \u001b[38;5;167;01mValueError\u001b[39;00m \u001b[38;5;28;01mas\u001b[39;00m e:\n\u001b[0;32m     14\u001b[0m     \u001b[38;5;28mprint\u001b[39m(\u001b[38;5;124mf\u001b[39m\u001b[38;5;124m\"\u001b[39m\u001b[38;5;124mError reading \u001b[39m\u001b[38;5;132;01m{\u001b[39;00mfile_path\u001b[38;5;132;01m}\u001b[39;00m\u001b[38;5;124m: \u001b[39m\u001b[38;5;132;01m{\u001b[39;00me\u001b[38;5;132;01m}\u001b[39;00m\u001b[38;5;124m\"\u001b[39m)\n",
      "File \u001b[1;32m~\\anaconda\\Lib\\site-packages\\mne\\io\\_read_raw.py:157\u001b[0m, in \u001b[0;36mread_raw\u001b[1;34m(fname, preload, verbose, **kwargs)\u001b[0m\n\u001b[0;32m    155\u001b[0m \u001b[38;5;28;01mfor\u001b[39;00m reader \u001b[38;5;129;01min\u001b[39;00m these_readers:\n\u001b[0;32m    156\u001b[0m     \u001b[38;5;28;01mtry\u001b[39;00m:\n\u001b[1;32m--> 157\u001b[0m         \u001b[38;5;28;01mreturn\u001b[39;00m reader(fname, \u001b[38;5;241m*\u001b[39m\u001b[38;5;241m*\u001b[39mkwargs)\n\u001b[0;32m    158\u001b[0m     \u001b[38;5;28;01mexcept\u001b[39;00m \u001b[38;5;167;01mException\u001b[39;00m:\n\u001b[0;32m    159\u001b[0m         \u001b[38;5;28;01mif\u001b[39;00m \u001b[38;5;28mlen\u001b[39m(these_readers) \u001b[38;5;241m==\u001b[39m \u001b[38;5;241m1\u001b[39m:\n",
      "File \u001b[1;32m~\\anaconda\\Lib\\site-packages\\mne\\io\\brainvision\\brainvision.py:958\u001b[0m, in \u001b[0;36mread_raw_brainvision\u001b[1;34m(vhdr_fname, eog, misc, scale, preload, verbose)\u001b[0m\n\u001b[0;32m    918\u001b[0m \u001b[38;5;129m@fill_doc\u001b[39m\n\u001b[0;32m    919\u001b[0m \u001b[38;5;28;01mdef\u001b[39;00m \u001b[38;5;21mread_raw_brainvision\u001b[39m(\n\u001b[0;32m    920\u001b[0m     vhdr_fname,\n\u001b[1;32m   (...)\u001b[0m\n\u001b[0;32m    925\u001b[0m     verbose\u001b[38;5;241m=\u001b[39m\u001b[38;5;28;01mNone\u001b[39;00m,\n\u001b[0;32m    926\u001b[0m ) \u001b[38;5;241m-\u001b[39m\u001b[38;5;241m>\u001b[39m RawBrainVision:\n\u001b[0;32m    927\u001b[0m \u001b[38;5;250m    \u001b[39m\u001b[38;5;124;03m\"\"\"Reader for Brain Vision EEG file.\u001b[39;00m\n\u001b[0;32m    928\u001b[0m \n\u001b[0;32m    929\u001b[0m \u001b[38;5;124;03m    Parameters\u001b[39;00m\n\u001b[1;32m   (...)\u001b[0m\n\u001b[0;32m    956\u001b[0m \u001b[38;5;124;03m    mne.io.Raw : Documentation of attributes and methods of RawBrainVision.\u001b[39;00m\n\u001b[0;32m    957\u001b[0m \u001b[38;5;124;03m    \"\"\"\u001b[39;00m\n\u001b[1;32m--> 958\u001b[0m     \u001b[38;5;28;01mreturn\u001b[39;00m RawBrainVision(\n\u001b[0;32m    959\u001b[0m         vhdr_fname\u001b[38;5;241m=\u001b[39mvhdr_fname,\n\u001b[0;32m    960\u001b[0m         eog\u001b[38;5;241m=\u001b[39meog,\n\u001b[0;32m    961\u001b[0m         misc\u001b[38;5;241m=\u001b[39mmisc,\n\u001b[0;32m    962\u001b[0m         scale\u001b[38;5;241m=\u001b[39mscale,\n\u001b[0;32m    963\u001b[0m         preload\u001b[38;5;241m=\u001b[39mpreload,\n\u001b[0;32m    964\u001b[0m         verbose\u001b[38;5;241m=\u001b[39mverbose,\n\u001b[0;32m    965\u001b[0m     )\n",
      "File \u001b[1;32m<decorator-gen-215>:12\u001b[0m, in \u001b[0;36m__init__\u001b[1;34m(self, vhdr_fname, eog, misc, scale, preload, verbose)\u001b[0m\n",
      "File \u001b[1;32m~\\anaconda\\Lib\\site-packages\\mne\\io\\brainvision\\brainvision.py:114\u001b[0m, in \u001b[0;36mRawBrainVision.__init__\u001b[1;34m(self, vhdr_fname, eog, misc, scale, preload, verbose)\u001b[0m\n\u001b[0;32m    112\u001b[0m orig_format \u001b[38;5;241m=\u001b[39m \u001b[38;5;124m\"\u001b[39m\u001b[38;5;124msingle\u001b[39m\u001b[38;5;124m\"\u001b[39m \u001b[38;5;28;01mif\u001b[39;00m \u001b[38;5;28misinstance\u001b[39m(fmt, \u001b[38;5;28mdict\u001b[39m) \u001b[38;5;28;01melse\u001b[39;00m fmt\n\u001b[0;32m    113\u001b[0m raw_extras \u001b[38;5;241m=\u001b[39m \u001b[38;5;28mdict\u001b[39m(offsets\u001b[38;5;241m=\u001b[39moffsets, fmt\u001b[38;5;241m=\u001b[39mfmt, order\u001b[38;5;241m=\u001b[39morder, n_samples\u001b[38;5;241m=\u001b[39mn_samples)\n\u001b[1;32m--> 114\u001b[0m \u001b[38;5;28msuper\u001b[39m()\u001b[38;5;241m.\u001b[39m\u001b[38;5;21m__init__\u001b[39m(\n\u001b[0;32m    115\u001b[0m     info,\n\u001b[0;32m    116\u001b[0m     last_samps\u001b[38;5;241m=\u001b[39m[n_samples \u001b[38;5;241m-\u001b[39m \u001b[38;5;241m1\u001b[39m],\n\u001b[0;32m    117\u001b[0m     filenames\u001b[38;5;241m=\u001b[39m[data_fname],\n\u001b[0;32m    118\u001b[0m     orig_format\u001b[38;5;241m=\u001b[39morig_format,\n\u001b[0;32m    119\u001b[0m     preload\u001b[38;5;241m=\u001b[39mpreload,\n\u001b[0;32m    120\u001b[0m     verbose\u001b[38;5;241m=\u001b[39mverbose,\n\u001b[0;32m    121\u001b[0m     raw_extras\u001b[38;5;241m=\u001b[39m[raw_extras],\n\u001b[0;32m    122\u001b[0m     orig_units\u001b[38;5;241m=\u001b[39morig_units,\n\u001b[0;32m    123\u001b[0m )\n\u001b[0;32m    125\u001b[0m \u001b[38;5;28mself\u001b[39m\u001b[38;5;241m.\u001b[39mset_montage(montage)\n\u001b[0;32m    127\u001b[0m settings, _, _, _ \u001b[38;5;241m=\u001b[39m _aux_hdr_info(hdr_fname)\n",
      "File \u001b[1;32m<decorator-gen-184>:12\u001b[0m, in \u001b[0;36m__init__\u001b[1;34m(self, info, preload, first_samps, last_samps, filenames, raw_extras, orig_format, dtype, buffer_size_sec, orig_units, verbose)\u001b[0m\n",
      "File \u001b[1;32m~\\anaconda\\Lib\\site-packages\\mne\\io\\base.py:309\u001b[0m, in \u001b[0;36mBaseRaw.__init__\u001b[1;34m(self, info, preload, first_samps, last_samps, filenames, raw_extras, orig_format, dtype, buffer_size_sec, orig_units, verbose)\u001b[0m\n\u001b[0;32m    307\u001b[0m \u001b[38;5;66;03m# If we have True or a string, actually do the preloading\u001b[39;00m\n\u001b[0;32m    308\u001b[0m \u001b[38;5;28;01mif\u001b[39;00m load_from_disk:\n\u001b[1;32m--> 309\u001b[0m     \u001b[38;5;28mself\u001b[39m\u001b[38;5;241m.\u001b[39m_preload_data(preload)\n\u001b[0;32m    310\u001b[0m \u001b[38;5;28mself\u001b[39m\u001b[38;5;241m.\u001b[39m_init_kwargs \u001b[38;5;241m=\u001b[39m _get_argvalues()\n",
      "File \u001b[1;32m~\\anaconda\\Lib\\site-packages\\mne\\io\\base.py:604\u001b[0m, in \u001b[0;36mBaseRaw._preload_data\u001b[1;34m(self, preload)\u001b[0m\n\u001b[0;32m    599\u001b[0m     data_buffer \u001b[38;5;241m=\u001b[39m \u001b[38;5;28;01mNone\u001b[39;00m\n\u001b[0;32m    600\u001b[0m logger\u001b[38;5;241m.\u001b[39minfo(\n\u001b[0;32m    601\u001b[0m     \u001b[38;5;124m\"\u001b[39m\u001b[38;5;124mReading \u001b[39m\u001b[38;5;132;01m%d\u001b[39;00m\u001b[38;5;124m ... \u001b[39m\u001b[38;5;132;01m%d\u001b[39;00m\u001b[38;5;124m  =  \u001b[39m\u001b[38;5;132;01m%9.3f\u001b[39;00m\u001b[38;5;124m ... \u001b[39m\u001b[38;5;132;01m%9.3f\u001b[39;00m\u001b[38;5;124m secs...\u001b[39m\u001b[38;5;124m\"\u001b[39m\n\u001b[0;32m    602\u001b[0m     \u001b[38;5;241m%\u001b[39m (\u001b[38;5;241m0\u001b[39m, \u001b[38;5;28mlen\u001b[39m(\u001b[38;5;28mself\u001b[39m\u001b[38;5;241m.\u001b[39mtimes) \u001b[38;5;241m-\u001b[39m \u001b[38;5;241m1\u001b[39m, \u001b[38;5;241m0.0\u001b[39m, \u001b[38;5;28mself\u001b[39m\u001b[38;5;241m.\u001b[39mtimes[\u001b[38;5;241m-\u001b[39m\u001b[38;5;241m1\u001b[39m])\n\u001b[0;32m    603\u001b[0m )\n\u001b[1;32m--> 604\u001b[0m \u001b[38;5;28mself\u001b[39m\u001b[38;5;241m.\u001b[39m_data \u001b[38;5;241m=\u001b[39m \u001b[38;5;28mself\u001b[39m\u001b[38;5;241m.\u001b[39m_read_segment(data_buffer\u001b[38;5;241m=\u001b[39mdata_buffer)\n\u001b[0;32m    605\u001b[0m \u001b[38;5;28;01massert\u001b[39;00m \u001b[38;5;28mlen\u001b[39m(\u001b[38;5;28mself\u001b[39m\u001b[38;5;241m.\u001b[39m_data) \u001b[38;5;241m==\u001b[39m \u001b[38;5;28mself\u001b[39m\u001b[38;5;241m.\u001b[39minfo[\u001b[38;5;124m\"\u001b[39m\u001b[38;5;124mnchan\u001b[39m\u001b[38;5;124m\"\u001b[39m]\n\u001b[0;32m    606\u001b[0m \u001b[38;5;28mself\u001b[39m\u001b[38;5;241m.\u001b[39mpreload \u001b[38;5;241m=\u001b[39m \u001b[38;5;28;01mTrue\u001b[39;00m\n",
      "File \u001b[1;32m<decorator-gen-186>:12\u001b[0m, in \u001b[0;36m_read_segment\u001b[1;34m(self, start, stop, sel, data_buffer, verbose)\u001b[0m\n",
      "File \u001b[1;32m~\\anaconda\\Lib\\site-packages\\mne\\io\\base.py:480\u001b[0m, in \u001b[0;36mBaseRaw._read_segment\u001b[1;34m(***failed resolving arguments***)\u001b[0m\n\u001b[0;32m    478\u001b[0m     \u001b[38;5;66;03m# reindex back to original file\u001b[39;00m\n\u001b[0;32m    479\u001b[0m     orig_idx \u001b[38;5;241m=\u001b[39m _convert_slice(\u001b[38;5;28mself\u001b[39m\u001b[38;5;241m.\u001b[39m_read_picks[fi][need_idx])\n\u001b[1;32m--> 480\u001b[0m     _ReadSegmentFileProtector(\u001b[38;5;28mself\u001b[39m)\u001b[38;5;241m.\u001b[39m_read_segment_file(\n\u001b[0;32m    481\u001b[0m         data[:, this_sl],\n\u001b[0;32m    482\u001b[0m         orig_idx,\n\u001b[0;32m    483\u001b[0m         fi,\n\u001b[0;32m    484\u001b[0m         \u001b[38;5;28mint\u001b[39m(start_file),\n\u001b[0;32m    485\u001b[0m         \u001b[38;5;28mint\u001b[39m(stop_file),\n\u001b[0;32m    486\u001b[0m         cals,\n\u001b[0;32m    487\u001b[0m         mult,\n\u001b[0;32m    488\u001b[0m     )\n\u001b[0;32m    489\u001b[0m     offset \u001b[38;5;241m+\u001b[39m\u001b[38;5;241m=\u001b[39m n_read\n\u001b[0;32m    490\u001b[0m \u001b[38;5;28;01mreturn\u001b[39;00m data\n",
      "File \u001b[1;32m~\\anaconda\\Lib\\site-packages\\mne\\io\\base.py:2627\u001b[0m, in \u001b[0;36m_ReadSegmentFileProtector._read_segment_file\u001b[1;34m(self, data, idx, fi, start, stop, cals, mult)\u001b[0m\n\u001b[0;32m   2626\u001b[0m \u001b[38;5;28;01mdef\u001b[39;00m \u001b[38;5;21m_read_segment_file\u001b[39m(\u001b[38;5;28mself\u001b[39m, data, idx, fi, start, stop, cals, mult):\n\u001b[1;32m-> 2627\u001b[0m     \u001b[38;5;28;01mreturn\u001b[39;00m \u001b[38;5;28mself\u001b[39m\u001b[38;5;241m.\u001b[39m__raw\u001b[38;5;241m.\u001b[39m\u001b[38;5;18m__class__\u001b[39m\u001b[38;5;241m.\u001b[39m_read_segment_file(\n\u001b[0;32m   2628\u001b[0m         \u001b[38;5;28mself\u001b[39m, data, idx, fi, start, stop, cals, mult\n\u001b[0;32m   2629\u001b[0m     )\n",
      "File \u001b[1;32m~\\anaconda\\Lib\\site-packages\\mne\\io\\brainvision\\brainvision.py:148\u001b[0m, in \u001b[0;36mRawBrainVision._read_segment_file\u001b[1;34m(self, data, idx, fi, start, stop, cals, mult)\u001b[0m\n\u001b[0;32m    146\u001b[0m \u001b[38;5;28;01melif\u001b[39;00m \u001b[38;5;28misinstance\u001b[39m(fmt, \u001b[38;5;28mstr\u001b[39m):\n\u001b[0;32m    147\u001b[0m     dtype \u001b[38;5;241m=\u001b[39m _fmt_dtype_dict[fmt]\n\u001b[1;32m--> 148\u001b[0m     _read_segments_file(\n\u001b[0;32m    149\u001b[0m         \u001b[38;5;28mself\u001b[39m,\n\u001b[0;32m    150\u001b[0m         data,\n\u001b[0;32m    151\u001b[0m         idx,\n\u001b[0;32m    152\u001b[0m         fi,\n\u001b[0;32m    153\u001b[0m         start,\n\u001b[0;32m    154\u001b[0m         stop,\n\u001b[0;32m    155\u001b[0m         cals,\n\u001b[0;32m    156\u001b[0m         mult,\n\u001b[0;32m    157\u001b[0m         dtype\u001b[38;5;241m=\u001b[39mdtype,\n\u001b[0;32m    158\u001b[0m         n_channels\u001b[38;5;241m=\u001b[39mn_data_ch,\n\u001b[0;32m    159\u001b[0m     )\n\u001b[0;32m    160\u001b[0m \u001b[38;5;28;01melse\u001b[39;00m:\n\u001b[0;32m    161\u001b[0m     offsets \u001b[38;5;241m=\u001b[39m \u001b[38;5;28mself\u001b[39m\u001b[38;5;241m.\u001b[39m_raw_extras[fi][\u001b[38;5;124m\"\u001b[39m\u001b[38;5;124moffsets\u001b[39m\u001b[38;5;124m\"\u001b[39m]\n",
      "File \u001b[1;32m~\\anaconda\\Lib\\site-packages\\mne\\_fiff\\utils.py:239\u001b[0m, in \u001b[0;36m_read_segments_file\u001b[1;34m(raw, data, idx, fi, start, stop, cals, mult, dtype, n_channels, offset, trigger_ch)\u001b[0m\n\u001b[0;32m    237\u001b[0m \u001b[38;5;28;01mfor\u001b[39;00m sample_start \u001b[38;5;129;01min\u001b[39;00m np\u001b[38;5;241m.\u001b[39marange(\u001b[38;5;241m0\u001b[39m, data_left, block_size) \u001b[38;5;241m/\u001b[39m\u001b[38;5;241m/\u001b[39m n_channels:\n\u001b[0;32m    238\u001b[0m     count \u001b[38;5;241m=\u001b[39m \u001b[38;5;28mmin\u001b[39m(block_size, data_left \u001b[38;5;241m-\u001b[39m sample_start \u001b[38;5;241m*\u001b[39m n_channels)\n\u001b[1;32m--> 239\u001b[0m     block \u001b[38;5;241m=\u001b[39m np\u001b[38;5;241m.\u001b[39mfromfile(fid, dtype, count)\n\u001b[0;32m    240\u001b[0m     \u001b[38;5;28;01mif\u001b[39;00m block\u001b[38;5;241m.\u001b[39msize \u001b[38;5;241m!=\u001b[39m count:\n\u001b[0;32m    241\u001b[0m         \u001b[38;5;28;01mraise\u001b[39;00m \u001b[38;5;167;01mRuntimeError\u001b[39;00m(\n\u001b[0;32m    242\u001b[0m             \u001b[38;5;124mf\u001b[39m\u001b[38;5;124m\"\u001b[39m\u001b[38;5;124mIncorrect number of samples (\u001b[39m\u001b[38;5;132;01m{\u001b[39;00mblock\u001b[38;5;241m.\u001b[39msize\u001b[38;5;132;01m}\u001b[39;00m\u001b[38;5;124m != \u001b[39m\u001b[38;5;132;01m{\u001b[39;00mcount\u001b[38;5;132;01m}\u001b[39;00m\u001b[38;5;124m), please \u001b[39m\u001b[38;5;124m\"\u001b[39m\n\u001b[0;32m    243\u001b[0m             \u001b[38;5;124m\"\u001b[39m\u001b[38;5;124mreport this error to MNE-Python developers\u001b[39m\u001b[38;5;124m\"\u001b[39m\n\u001b[0;32m    244\u001b[0m         )\n",
      "\u001b[1;31mKeyboardInterrupt\u001b[0m: "
     ]
    }
   ],
   "source": [
    "# Loop through each patient (009, 015, 033, 045)\n",
    "for patient_id in ['045', '033', '009', '015']:\n",
    "    print(\"Patient: \" + patient_id)\n",
    "    # List of (file type, label) tuples\n",
    "    files = [('base', 0), ('surgery', 1)]\n",
    "\n",
    "    for file_type, label in files:\n",
    "        # Load the file\n",
    "        file_path = BASE_DIR / f'{patient_id}/{patient_id}_{file_type}.vhdr'\n",
    "\n",
    "        try:\n",
    "            raw = mne.io.read_raw(file_path, preload=True)\n",
    "        except ValueError as e:\n",
    "            print(f\"Error reading {file_path}: {e}\")\n",
    "            continue\n",
    "\n",
    "        print(raw.ch_names)\n",
    "        raw.pick(['CP5', 'CP6', 'F7', 'F8', 'FC5', 'FC6', 'P7', 'P8', 'T7', 'T8'])\n",
    "        raw.filter(l_freq=0.1, h_freq=70)\n",
    "        raw.notch_filter(50)\n",
    "        raw.set_montage('standard_1020', on_missing='ignore')\n",
    "\n",
    "        # Divide into 10-20s windows\n",
    "        window_size = 30\n",
    "        overlap = 15\n",
    "        data = []\n",
    "\n",
    "        for start in range(0, int(len(raw) / raw.info['sfreq']) - window_size, overlap):\n",
    "            window_raw = raw.copy().crop(tmin=start, tmax=start + window_size, include_tmax=False)\n",
    "            # print(window_raw.shape)\n",
    "            window_features = extract_spectral_features(window_raw)\n",
    "            print(window_features.shape)\n",
    "            # features_doubled = np.hstack([window_features, window_features])  # Double the features\n",
    "            data.append(np.hstack([window_features, label]))  # Append features and label to data\n",
    "\n",
    "        # Generate the column names\n",
    "        feature_names = [f'{ch}_{feature}' for ch in raw.info['ch_names'] for feature in ['alpha_power', 'delta_power', 'spectral_edge', 'spectral_entropy']]\n",
    "        columns = feature_names + ['label']\n",
    "        \n",
    "        # Create the DataFrame\n",
    "        df = pd.DataFrame(data, columns=columns)\n",
    "        \n",
    "        try:\n",
    "            df.to_csv(f'{patient_id}_{file_type}_features.csv', index=False)\n",
    "        except Exception as e:\n",
    "            print(f\"Error saving file {patient_id}_{file_type}_features.csv: {e}\")\n"
   ]
  },
  {
   "cell_type": "code",
   "execution_count": null,
   "id": "d49e46b6-70a1-47d9-a984-c62fa0aaf9d1",
   "metadata": {},
   "outputs": [],
   "source": []
  },
  {
   "cell_type": "code",
   "execution_count": null,
   "id": "50c1efd0-195a-4f78-a8d2-65e9d71d25af",
   "metadata": {},
   "outputs": [],
   "source": []
  }
 ],
 "metadata": {
  "kernelspec": {
   "display_name": "Python 3 (ipykernel)",
   "language": "python",
   "name": "python3"
  },
  "language_info": {
   "codemirror_mode": {
    "name": "ipython",
    "version": 3
   },
   "file_extension": ".py",
   "mimetype": "text/x-python",
   "name": "python",
   "nbconvert_exporter": "python",
   "pygments_lexer": "ipython3",
   "version": "3.11.7"
  }
 },
 "nbformat": 4,
 "nbformat_minor": 5
}
